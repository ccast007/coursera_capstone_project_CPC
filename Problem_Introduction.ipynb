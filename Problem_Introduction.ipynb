{
    "nbformat_minor": 1, 
    "cells": [
        {
            "source": "### Description of the problem & Background", 
            "cell_type": "markdown", 
            "metadata": {}
        }, 
        {
            "source": "Company \u201cA\u201c is expanding the business so the CEO of the company  want to open a New branch in the North of Navarra, Spain. They need to choose the best place according to costumer\u2019s preferences and a specific group of facilities near this place. Is well know that capitals cities usually would supply most of the client needs. However, in this capital cities the competition of Company \u201cA\u201d is high, for that reason is not a good idea. Mr CEO think that maybe a place out of Pamplona (Capital City of Navarra) could fit the requirements.     \nCould data analysis find the best place or a group a places in order to take decisions about open a new branch?", 
            "cell_type": "markdown", 
            "metadata": {}
        }
    ], 
    "metadata": {
        "kernelspec": {
            "display_name": "Python 3.6", 
            "name": "python3", 
            "language": "python"
        }, 
        "language_info": {
            "mimetype": "text/x-python", 
            "nbconvert_exporter": "python", 
            "version": "3.6.8", 
            "name": "python", 
            "file_extension": ".py", 
            "pygments_lexer": "ipython3", 
            "codemirror_mode": {
                "version": 3, 
                "name": "ipython"
            }
        }
    }, 
    "nbformat": 4
}
