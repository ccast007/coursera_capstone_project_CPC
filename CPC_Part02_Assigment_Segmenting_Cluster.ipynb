{
    "nbformat_minor": 2, 
    "cells": [
        {
            "source": "### Assignment: Segmenting and Clustering Neighborhoods in Toronto . By CPC", 
            "cell_type": "markdown", 
            "metadata": {}
        }, 
        {
            "source": "#### 1) Importing Lib", 
            "cell_type": "markdown", 
            "metadata": {}
        }, 
        {
            "execution_count": 170, 
            "cell_type": "code", 
            "metadata": {}, 
            "outputs": [
                {
                    "execution_count": 170, 
                    "metadata": {}, 
                    "data": {
                        "text/plain": "'0.24.2'"
                    }, 
                    "output_type": "execute_result"
                }
            ], 
            "source": "# Importing Libraries\nimport requests # library to handle requests\nimport pandas as pd # library for data analsysis\npd.set_option('display.max_columns', None)\npd.set_option('display.max_rows', None)\nimport numpy as np # library to handle data in a vectorized manner\nfrom urllib.request import urlopen # library to open the url from which we would like to extract the data.\nfrom bs4 import BeautifulSoup  # get the HTML structure of the page that we want to work with.\nfrom pandas.io.json import json_normalize # tranform JSON file into a pandas dataframe\nimport json # library to handle JSON files\n# Matplotlib and associated plotting modules\nimport matplotlib.cm as cm\nimport matplotlib.colors as colors\n\n# import k-means from clustering stage\nfrom sklearn.cluster import KMeans\n\n\npd.__version__"
        }, 
        {
            "source": "#### 2) \"dy\" is the DF that contain this Borough, Neighboudhood and Postal Code in Order accordin to the first part of the Assigment", 
            "cell_type": "markdown", 
            "metadata": {}
        }, 
        {
            "source": "### - Result of the First part of the assignment - DataFrame with Postalcode, Borough and Neignborhood\n-------------------------------------------------------------------------------------", 
            "cell_type": "markdown", 
            "metadata": {}
        }, 
        {
            "execution_count": 173, 
            "cell_type": "code", 
            "metadata": {}, 
            "outputs": [
                {
                    "output_type": "stream", 
                    "name": "stdout", 
                    "text": "(103, 3)\n"
                }, 
                {
                    "execution_count": 173, 
                    "metadata": {}, 
                    "data": {
                        "text/html": "<div>\n<style scoped>\n    .dataframe tbody tr th:only-of-type {\n        vertical-align: middle;\n    }\n\n    .dataframe tbody tr th {\n        vertical-align: top;\n    }\n\n    .dataframe thead th {\n        text-align: right;\n    }\n</style>\n<table border=\"1\" class=\"dataframe\">\n  <thead>\n    <tr style=\"text-align: right;\">\n      <th></th>\n      <th>PostalCode</th>\n      <th>Borough</th>\n      <th>Neighborhood</th>\n    </tr>\n  </thead>\n  <tbody>\n    <tr>\n      <th>0</th>\n      <td>M1B</td>\n      <td>Scarborough</td>\n      <td>, Malvern, Rouge</td>\n    </tr>\n    <tr>\n      <th>1</th>\n      <td>M1C</td>\n      <td>Scarborough</td>\n      <td>, Highland Creek, Port Union, Rouge Hill</td>\n    </tr>\n    <tr>\n      <th>2</th>\n      <td>M1E</td>\n      <td>Scarborough</td>\n      <td>, Guildwood\\n, Morningside, West Hill</td>\n    </tr>\n    <tr>\n      <th>3</th>\n      <td>M1G</td>\n      <td>Scarborough</td>\n      <td>, Woburn</td>\n    </tr>\n    <tr>\n      <th>4</th>\n      <td>M1H</td>\n      <td>Scarborough</td>\n      <td>, Cedarbrae\\n</td>\n    </tr>\n    <tr>\n      <th>5</th>\n      <td>M1J</td>\n      <td>Scarborough</td>\n      <td>, Scarborough Village</td>\n    </tr>\n    <tr>\n      <th>6</th>\n      <td>M1K</td>\n      <td>Scarborough</td>\n      <td>, East Birchmount Park\\n, Ionview, Kennedy Park</td>\n    </tr>\n    <tr>\n      <th>7</th>\n      <td>M1L</td>\n      <td>Scarborough</td>\n      <td>, Clairlea, Golden Mile, Oakridge</td>\n    </tr>\n    <tr>\n      <th>8</th>\n      <td>M1M</td>\n      <td>Scarborough</td>\n      <td>, Cliffcrest, Cliffside, Scarborough Village W...</td>\n    </tr>\n    <tr>\n      <th>9</th>\n      <td>M1N</td>\n      <td>Scarborough</td>\n      <td>, Birch Cliff, Cliffside West\\n</td>\n    </tr>\n  </tbody>\n</table>\n</div>", 
                        "text/plain": "  PostalCode      Borough                                       Neighborhood\n0        M1B  Scarborough                                   , Malvern, Rouge\n1        M1C  Scarborough           , Highland Creek, Port Union, Rouge Hill\n2        M1E  Scarborough              , Guildwood\\n, Morningside, West Hill\n3        M1G  Scarborough                                           , Woburn\n4        M1H  Scarborough                                      , Cedarbrae\\n\n5        M1J  Scarborough                              , Scarborough Village\n6        M1K  Scarborough    , East Birchmount Park\\n, Ionview, Kennedy Park\n7        M1L  Scarborough                  , Clairlea, Golden Mile, Oakridge\n8        M1M  Scarborough  , Cliffcrest, Cliffside, Scarborough Village W...\n9        M1N  Scarborough                    , Birch Cliff, Cliffside West\\n"
                    }, 
                    "output_type": "execute_result"
                }
            ], 
            "source": "print(dy.shape)\ndy[0:10]"
        }, 
        {
            "source": "#### 3) Creating DataFrames with Coordinates. Reading the csv file with coordinates", 
            "cell_type": "markdown", 
            "metadata": {}
        }, 
        {
            "execution_count": 174, 
            "cell_type": "code", 
            "metadata": {}, 
            "outputs": [], 
            "source": "#Extracting Data and Creating the DF\npath='http://cocl.us/Geospatial_data'\ndf = pd.read_csv(path)\ndf.rename(columns = {'Postal Code' : 'PostalCode'} , inplace = True)\n#df.head()\n#Merge of data in order to create the final DF\ndf1 = pd.merge(dy, df, on='PostalCode', how='outer')\n"
        }, 
        {
            "source": "## - Result of the Second part of the assignment - DataFrame with Coordinates\n-------------------------------------------------------------------------------------", 
            "cell_type": "markdown", 
            "metadata": {}
        }, 
        {
            "execution_count": 175, 
            "cell_type": "code", 
            "metadata": {}, 
            "outputs": [
                {
                    "output_type": "stream", 
                    "name": "stdout", 
                    "text": "(103, 5)\n"
                }, 
                {
                    "execution_count": 175, 
                    "metadata": {}, 
                    "data": {
                        "text/html": "<div>\n<style scoped>\n    .dataframe tbody tr th:only-of-type {\n        vertical-align: middle;\n    }\n\n    .dataframe tbody tr th {\n        vertical-align: top;\n    }\n\n    .dataframe thead th {\n        text-align: right;\n    }\n</style>\n<table border=\"1\" class=\"dataframe\">\n  <thead>\n    <tr style=\"text-align: right;\">\n      <th></th>\n      <th>PostalCode</th>\n      <th>Borough</th>\n      <th>Neighborhood</th>\n      <th>Latitude</th>\n      <th>Longitude</th>\n    </tr>\n  </thead>\n  <tbody>\n    <tr>\n      <th>0</th>\n      <td>M1B</td>\n      <td>Scarborough</td>\n      <td>, Malvern, Rouge</td>\n      <td>43.806686</td>\n      <td>-79.194353</td>\n    </tr>\n    <tr>\n      <th>1</th>\n      <td>M1C</td>\n      <td>Scarborough</td>\n      <td>, Highland Creek, Port Union, Rouge Hill</td>\n      <td>43.784535</td>\n      <td>-79.160497</td>\n    </tr>\n    <tr>\n      <th>2</th>\n      <td>M1E</td>\n      <td>Scarborough</td>\n      <td>, Guildwood\\n, Morningside, West Hill</td>\n      <td>43.763573</td>\n      <td>-79.188711</td>\n    </tr>\n    <tr>\n      <th>3</th>\n      <td>M1G</td>\n      <td>Scarborough</td>\n      <td>, Woburn</td>\n      <td>43.770992</td>\n      <td>-79.216917</td>\n    </tr>\n    <tr>\n      <th>4</th>\n      <td>M1H</td>\n      <td>Scarborough</td>\n      <td>, Cedarbrae\\n</td>\n      <td>43.773136</td>\n      <td>-79.239476</td>\n    </tr>\n    <tr>\n      <th>5</th>\n      <td>M1J</td>\n      <td>Scarborough</td>\n      <td>, Scarborough Village</td>\n      <td>43.744734</td>\n      <td>-79.239476</td>\n    </tr>\n    <tr>\n      <th>6</th>\n      <td>M1K</td>\n      <td>Scarborough</td>\n      <td>, East Birchmount Park\\n, Ionview, Kennedy Park</td>\n      <td>43.727929</td>\n      <td>-79.262029</td>\n    </tr>\n    <tr>\n      <th>7</th>\n      <td>M1L</td>\n      <td>Scarborough</td>\n      <td>, Clairlea, Golden Mile, Oakridge</td>\n      <td>43.711112</td>\n      <td>-79.284577</td>\n    </tr>\n    <tr>\n      <th>8</th>\n      <td>M1M</td>\n      <td>Scarborough</td>\n      <td>, Cliffcrest, Cliffside, Scarborough Village W...</td>\n      <td>43.716316</td>\n      <td>-79.239476</td>\n    </tr>\n    <tr>\n      <th>9</th>\n      <td>M1N</td>\n      <td>Scarborough</td>\n      <td>, Birch Cliff, Cliffside West\\n</td>\n      <td>43.692657</td>\n      <td>-79.264848</td>\n    </tr>\n  </tbody>\n</table>\n</div>", 
                        "text/plain": "  PostalCode      Borough                                       Neighborhood  \\\n0        M1B  Scarborough                                   , Malvern, Rouge   \n1        M1C  Scarborough           , Highland Creek, Port Union, Rouge Hill   \n2        M1E  Scarborough              , Guildwood\\n, Morningside, West Hill   \n3        M1G  Scarborough                                           , Woburn   \n4        M1H  Scarborough                                      , Cedarbrae\\n   \n5        M1J  Scarborough                              , Scarborough Village   \n6        M1K  Scarborough    , East Birchmount Park\\n, Ionview, Kennedy Park   \n7        M1L  Scarborough                  , Clairlea, Golden Mile, Oakridge   \n8        M1M  Scarborough  , Cliffcrest, Cliffside, Scarborough Village W...   \n9        M1N  Scarborough                    , Birch Cliff, Cliffside West\\n   \n\n    Latitude  Longitude  \n0  43.806686 -79.194353  \n1  43.784535 -79.160497  \n2  43.763573 -79.188711  \n3  43.770992 -79.216917  \n4  43.773136 -79.239476  \n5  43.744734 -79.239476  \n6  43.727929 -79.262029  \n7  43.711112 -79.284577  \n8  43.716316 -79.239476  \n9  43.692657 -79.264848  "
                    }, 
                    "output_type": "execute_result"
                }
            ], 
            "source": "print(df1.shape)\ndf1[0:10]"
        }, 
        {
            "execution_count": null, 
            "cell_type": "code", 
            "metadata": {}, 
            "outputs": [], 
            "source": ""
        }
    ], 
    "metadata": {
        "kernelspec": {
            "display_name": "Python 3.5", 
            "name": "python3", 
            "language": "python"
        }, 
        "language_info": {
            "mimetype": "text/x-python", 
            "nbconvert_exporter": "python", 
            "version": "3.5.5", 
            "name": "python", 
            "file_extension": ".py", 
            "pygments_lexer": "ipython3", 
            "codemirror_mode": {
                "version": 3, 
                "name": "ipython"
            }
        }
    }, 
    "nbformat": 4
}