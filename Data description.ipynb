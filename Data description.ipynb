{
    "nbformat_minor": 1, 
    "cells": [
        {
            "source": "### Description of the data", 
            "cell_type": "markdown", 
            "metadata": {
                "collapsed": true
            }
        }, 
        {
            "source": "-\tBefore start the analysis, company A did a survey on costumer\u2019s preferences about venues categories. The result is a list of 154 specific categories (category_costumer.csv)\n-\tTo find the name of the places, population, coordinates we need scrap or extract data from  wikipedia ('https://es.wikipedia.org/wiki/Merindad_de_Pamplona)\n-\tTo find de venues (R=2Km) near these places, we extract data from Foursquare.", 
            "cell_type": "markdown", 
            "metadata": {}
        }
    ], 
    "metadata": {
        "kernelspec": {
            "display_name": "Python 3.6", 
            "name": "python3", 
            "language": "python"
        }, 
        "language_info": {
            "mimetype": "text/x-python", 
            "nbconvert_exporter": "python", 
            "version": "3.6.8", 
            "name": "python", 
            "file_extension": ".py", 
            "pygments_lexer": "ipython3", 
            "codemirror_mode": {
                "version": 3, 
                "name": "ipython"
            }
        }
    }, 
    "nbformat": 4
}