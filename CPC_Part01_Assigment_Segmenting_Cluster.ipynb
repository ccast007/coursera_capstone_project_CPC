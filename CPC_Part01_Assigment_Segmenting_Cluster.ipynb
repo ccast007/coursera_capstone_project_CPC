{
    "nbformat_minor": 2, 
    "cells": [
        {
            "source": "### Assignment: Segmenting and Clustering Neighborhoods in Toronto . By CPC", 
            "cell_type": "markdown", 
            "metadata": {}
        }, 
        {
            "source": "#### 1) Importing Lib", 
            "cell_type": "markdown", 
            "metadata": {}
        }, 
        {
            "execution_count": 170, 
            "cell_type": "code", 
            "metadata": {}, 
            "outputs": [
                {
                    "execution_count": 170, 
                    "metadata": {}, 
                    "data": {
                        "text/plain": "'0.24.2'"
                    }, 
                    "output_type": "execute_result"
                }
            ], 
            "source": "# Importing Libraries\nimport requests # library to handle requests\nimport pandas as pd # library for data analsysis\npd.set_option('display.max_columns', None)\npd.set_option('display.max_rows', None)\nimport numpy as np # library to handle data in a vectorized manner\nfrom urllib.request import urlopen # library to open the url from which we would like to extract the data.\nfrom bs4 import BeautifulSoup  # get the HTML structure of the page that we want to work with.\nfrom pandas.io.json import json_normalize # tranform JSON file into a pandas dataframe\nimport json # library to handle JSON files\n# Matplotlib and associated plotting modules\nimport matplotlib.cm as cm\nimport matplotlib.colors as colors\n\n# import k-means from clustering stage\nfrom sklearn.cluster import KMeans\n\n\npd.__version__"
        }, 
        {
            "source": "#### 2) Extracting Data from Wikipedia and sorting", 
            "cell_type": "markdown", 
            "metadata": {}
        }, 
        {
            "execution_count": 171, 
            "cell_type": "code", 
            "metadata": {}, 
            "outputs": [], 
            "source": "#Extract Data\nwebsite_url = requests.get('https://en.wikipedia.org/wiki/List_of_postal_codes_of_Canada:_M').text\nsoup = BeautifulSoup(website_url,'lxml')\n#print(soup.prettify())\nMy_table = soup.find('table',{'class':'wikitable sortable'})\n\nA=[]\nB=[]\nC=[]\nfor row in My_table.findAll('tr'):\n    cells=row.findAll('td')\n    if len(cells)==3 and cells[1].find(text=True) != \"Not assigned\":\n        A.append(cells[0].find(text=True))\n        B.append(cells[1].find(text=True))\n        C.append(cells[2].find(text=True))\n\n# Converting in Dataframe and solving Problem with No assigned\ndf=pd.DataFrame(A,columns=['PostalCode'])\ndf['Borough']=B\ndf['Neighborhood']=C\ndf.loc[df.Neighborhood == \"Not assigned\\n\", ['Neighborhood']] = df.loc[df.Neighborhood == \"Not assigned\\n\", ['Borough']].values\ndf.shape\n\nX = df[['PostalCode','Borough','Neighborhood']]\nX.loc[X.Neighborhood == \"Not assigned\\n\", ['Neighborhood']] = X.loc[X.Neighborhood == \"Not assigned\\n\", ['Borough']].values\n"
        }, 
        {
            "source": "#### 3) Creating DataFrames", 
            "cell_type": "markdown", 
            "metadata": {}
        }, 
        {
            "execution_count": 172, 
            "cell_type": "code", 
            "metadata": {}, 
            "outputs": [], 
            "source": "#Grouping Dataset by PostCode\nY = X.groupby(['PostalCode'])['Borough'].value_counts()\ny1=[]\ny2=[]\ny3=[]\nfor i in range(len(Y)):\n    y1.append(Y.index[i][0])\n    y2.append(Y.index[i][1])\n    \ndy=pd.DataFrame(y1,columns=['PostalCode'])\ndy['Borough']=y2\ndy['cant_Neig']=Y.values\ndy['Neighborhood'] = \"\"\n#print(dy.shape)\n#dy.head()\nz1=[]\ni=0\ndy['Neighborhood'] = \"\"\n\n##############\n\n#Grouping Dataset by Neighborhood\nZ = X.groupby(['PostalCode'])['Neighborhood'].value_counts()\nz1=[]\nz2=[]\nfor i in range(len(Z)):\n    z1.append(Z.index[i][0])\n    z2.append(Z.index[i][1])\ndz=pd.DataFrame(z1,columns=['PostalCode'])\ndz['Neighborhood']=z2\n#dz.head()\n\n#Creating the final dataFrame\nz1=[]\ni=0\ndy['Neighborhood'] = \"\"\nfor i in range(len(dy)):\n    h=0\n    yuca=\"\"\n    for h in range(len(dz)):\n        if dy.iloc[i,0] == dz.iloc[h,0]:#Deberia estar len(dz)\n                yuca = dz.iloc[h,1]\n                dy.iloc[i,3] = dy.iloc[i,3] + ', ' + yuca\n                h = h+1               \ndy = dy.drop(['cant_Neig'], axis = 1)"
        }, 
        {
            "source": "## - Result of the First part of the assignment - DataFrame with Postalcode, Borough and Neignborhood\n-------------------------------------------------------------------------------------", 
            "cell_type": "markdown", 
            "metadata": {}
        }, 
        {
            "execution_count": 173, 
            "cell_type": "code", 
            "metadata": {}, 
            "outputs": [
                {
                    "output_type": "stream", 
                    "name": "stdout", 
                    "text": "(103, 3)\n"
                }, 
                {
                    "execution_count": 173, 
                    "metadata": {}, 
                    "data": {
                        "text/html": "<div>\n<style scoped>\n    .dataframe tbody tr th:only-of-type {\n        vertical-align: middle;\n    }\n\n    .dataframe tbody tr th {\n        vertical-align: top;\n    }\n\n    .dataframe thead th {\n        text-align: right;\n    }\n</style>\n<table border=\"1\" class=\"dataframe\">\n  <thead>\n    <tr style=\"text-align: right;\">\n      <th></th>\n      <th>PostalCode</th>\n      <th>Borough</th>\n      <th>Neighborhood</th>\n    </tr>\n  </thead>\n  <tbody>\n    <tr>\n      <th>0</th>\n      <td>M1B</td>\n      <td>Scarborough</td>\n      <td>, Malvern, Rouge</td>\n    </tr>\n    <tr>\n      <th>1</th>\n      <td>M1C</td>\n      <td>Scarborough</td>\n      <td>, Highland Creek, Port Union, Rouge Hill</td>\n    </tr>\n    <tr>\n      <th>2</th>\n      <td>M1E</td>\n      <td>Scarborough</td>\n      <td>, Guildwood\\n, Morningside, West Hill</td>\n    </tr>\n    <tr>\n      <th>3</th>\n      <td>M1G</td>\n      <td>Scarborough</td>\n      <td>, Woburn</td>\n    </tr>\n    <tr>\n      <th>4</th>\n      <td>M1H</td>\n      <td>Scarborough</td>\n      <td>, Cedarbrae\\n</td>\n    </tr>\n    <tr>\n      <th>5</th>\n      <td>M1J</td>\n      <td>Scarborough</td>\n      <td>, Scarborough Village</td>\n    </tr>\n    <tr>\n      <th>6</th>\n      <td>M1K</td>\n      <td>Scarborough</td>\n      <td>, East Birchmount Park\\n, Ionview, Kennedy Park</td>\n    </tr>\n    <tr>\n      <th>7</th>\n      <td>M1L</td>\n      <td>Scarborough</td>\n      <td>, Clairlea, Golden Mile, Oakridge</td>\n    </tr>\n    <tr>\n      <th>8</th>\n      <td>M1M</td>\n      <td>Scarborough</td>\n      <td>, Cliffcrest, Cliffside, Scarborough Village W...</td>\n    </tr>\n    <tr>\n      <th>9</th>\n      <td>M1N</td>\n      <td>Scarborough</td>\n      <td>, Birch Cliff, Cliffside West\\n</td>\n    </tr>\n  </tbody>\n</table>\n</div>", 
                        "text/plain": "  PostalCode      Borough                                       Neighborhood\n0        M1B  Scarborough                                   , Malvern, Rouge\n1        M1C  Scarborough           , Highland Creek, Port Union, Rouge Hill\n2        M1E  Scarborough              , Guildwood\\n, Morningside, West Hill\n3        M1G  Scarborough                                           , Woburn\n4        M1H  Scarborough                                      , Cedarbrae\\n\n5        M1J  Scarborough                              , Scarborough Village\n6        M1K  Scarborough    , East Birchmount Park\\n, Ionview, Kennedy Park\n7        M1L  Scarborough                  , Clairlea, Golden Mile, Oakridge\n8        M1M  Scarborough  , Cliffcrest, Cliffside, Scarborough Village W...\n9        M1N  Scarborough                    , Birch Cliff, Cliffside West\\n"
                    }, 
                    "output_type": "execute_result"
                }
            ], 
            "source": "print(dy.shape)\ndy[0:10]"
        }
    ], 
    "metadata": {
        "kernelspec": {
            "display_name": "Python 3.5", 
            "name": "python3", 
            "language": "python"
        }, 
        "language_info": {
            "mimetype": "text/x-python", 
            "nbconvert_exporter": "python", 
            "version": "3.5.5", 
            "name": "python", 
            "file_extension": ".py", 
            "pygments_lexer": "ipython3", 
            "codemirror_mode": {
                "version": 3, 
                "name": "ipython"
            }
        }
    }, 
    "nbformat": 4
}